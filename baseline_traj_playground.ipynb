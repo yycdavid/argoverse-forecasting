{
 "cells": [
  {
   "cell_type": "code",
   "execution_count": 1,
   "metadata": {},
   "outputs": [],
   "source": [
    "import os\n",
    "import shutil\n",
    "import tempfile\n",
    "import time\n",
    "from typing import Any, Dict, List, Tuple, Union\n",
    "\n",
    "import argparse\n",
    "import joblib\n",
    "from joblib import Parallel, delayed\n",
    "import numpy as np\n",
    "import pandas as pd \n",
    "import pickle as pkl\n",
    "from termcolor import cprint\n",
    "import torch\n",
    "import torch.nn as nn\n",
    "import torch.nn.functional as F\n",
    "from tqdm import tqdm \n",
    "import wandb \n",
    "\n",
    "from logger import Logger\n",
    "import utils.baseline_config as config\n",
    "import utils.baseline_utils as baseline_utils\n",
    "from utils.lstm_utils import ModelUtils, LSTMDataset\n",
    "from prog_utils import * \n",
    "from models import * \n",
    "from lstm_train_test import * \n",
    "\n",
    "use_cuda = torch.cuda.is_available()\n",
    "if use_cuda:\n",
    "    device = torch.device(\"cuda\")\n",
    "else:\n",
    "    device = torch.device(\"cpu\")\n",
    "global_step = 0\n",
    "best_loss = float(\"inf\")\n",
    "np.random.seed(100)\n",
    "\n",
    "ROLLOUT_LENS = [1, 10, 30]"
   ]
  },
  {
   "cell_type": "code",
   "execution_count": 5,
   "metadata": {},
   "outputs": [
    {
     "name": "stdout",
     "output_type": "stream",
     "text": [
      "Loading Test data ...\n",
      "Creating relative distances...\n",
      "Test Size: 39472\n",
      "Loading Train data ...\n",
      "Creating relative distances...\n",
      "Train Size: 205942\n",
      "Loading Val data ...\n",
      "Creating relative distances...\n",
      "Val Size: 39472\n"
     ]
    }
   ],
   "source": [
    "import sys\n",
    "sys.argv = ['']\n",
    "args = parse_arguments()\n",
    "args.use_delta = True\n",
    "\n",
    "data_dict = baseline_utils.get_data(args, 'none')\n"
   ]
  },
  {
   "cell_type": "code",
   "execution_count": 2,
   "metadata": {},
   "outputs": [],
   "source": [
    "baseline_name = 'val_prep_baseline.pkl'\n",
    "baseline_val_pred = pd.read_pickle(f'Traj/{baseline_name}')"
   ]
  },
  {
   "cell_type": "code",
   "execution_count": 16,
   "metadata": {},
   "outputs": [],
   "source": [
    "from utils.baseline_config import FEATURE_FORMAT\n",
    "def get_xy(feature_entry):\n",
    "    xy_traj = feature_entry[:, [FEATURE_FORMAT['X'], FEATURE_FORMAT['Y']]].astype(\"float\")\n",
    "    return xy_traj\n",
    "\n",
    "def get_min_ade(pred_trajs, gt_xy):\n",
    "    min_ade = 1000000\n",
    "    min_idx = -1\n",
    "    for (i, pred_traj) in enumerate(pred_trajs):\n",
    "        ade = np.mean(np.linalg.norm(pred_traj - gt_xy, axis=1))\n",
    "        if ade < min_ade:\n",
    "            min_ade = ade\n",
    "            min_idx = i\n",
    "\n",
    "    return min_ade, min_idx\n",
    "\n",
    "def get_min_fde(pred_trajs, gt_xy):\n",
    "    fdes = [np.linalg.norm(t[-1] - gt_xy[-1]) for t in pred_trajs]\n",
    "    min_fde = min(fdes)\n",
    "    min_idx = fdes.index(min_fde)\n",
    "\n",
    "    return min_fde, min_idx"
   ]
  },
  {
   "cell_type": "code",
   "execution_count": 27,
   "metadata": {},
   "outputs": [
    {
     "name": "stderr",
     "output_type": "stream",
     "text": [
      "100%|██████████| 39472/39472 [00:13<00:00, 2882.85it/s]"
     ]
    },
    {
     "name": "stdout",
     "output_type": "stream",
     "text": [
      "Average min ade: 2.0643491062589763\n",
      "Average min fde: 4.591912308782257\n"
     ]
    },
    {
     "name": "stderr",
     "output_type": "stream",
     "text": [
      "\n"
     ]
    }
   ],
   "source": [
    "min_ades = []\n",
    "min_fdes = [] \n",
    "\n",
    "val_helpers = data_dict['val_helpers']\n",
    "total_num = val_helpers.shape[0]\n",
    "for i in tqdm(range(total_num)):\n",
    "    example = val_helpers.iloc[i]\n",
    "    xy_traj = get_xy(example.FEATURES)\n",
    "    obs_xy = xy_traj[:args.obs_len, :]\n",
    "    gt_xy = xy_traj[args.obs_len:, :]\n",
    "    fitted_xy = baseline_val_pred[example['SEQUENCE']]\n",
    "\n",
    "    min_ades.append(get_min_ade(fitted_xy, gt_xy)[0])\n",
    "    min_fdes.append(get_min_fde(fitted_xy, gt_xy)[0])\n",
    "\n",
    "avg_ade = np.mean(min_ades)\n",
    "avg_fde = np.mean(min_fdes)\n",
    "print(\"Average min ade: {}\".format(avg_ade))\n",
    "print(\"Average min fde: {}\".format(avg_fde))"
   ]
  },
  {
   "cell_type": "code",
   "execution_count": null,
   "metadata": {},
   "outputs": [],
   "source": []
  },
  {
   "cell_type": "code",
   "execution_count": null,
   "metadata": {},
   "outputs": [],
   "source": []
  }
 ],
 "metadata": {
  "interpreter": {
   "hash": "c4923eb25cb124529e09a9a9ae9fc4b6e3115eef4d3458af6de685f8ed20e23f"
  },
  "kernelspec": {
   "display_name": "Python 3.7.6 64-bit ('base': conda)",
   "name": "python3"
  },
  "language_info": {
   "name": "python",
   "version": ""
  },
  "orig_nbformat": 4
 },
 "nbformat": 4,
 "nbformat_minor": 2
}