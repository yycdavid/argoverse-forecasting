{
 "cells": [
  {
   "cell_type": "code",
   "execution_count": 1,
   "metadata": {},
   "outputs": [],
   "source": [
    "import os\n",
    "import shutil\n",
    "import tempfile\n",
    "import time\n",
    "from typing import Any, Dict, List, Tuple, Union\n",
    "\n",
    "import argparse\n",
    "import joblib\n",
    "from joblib import Parallel, delayed\n",
    "import numpy as np\n",
    "import pandas as pd \n",
    "import pickle as pkl\n",
    "from termcolor import cprint\n",
    "import torch\n",
    "import torch.nn as nn\n",
    "import torch.nn.functional as F\n",
    "from tqdm import tqdm \n",
    "import wandb \n",
    "\n",
    "from logger import Logger\n",
    "import utils.baseline_config as config\n",
    "import utils.baseline_utils as baseline_utils\n",
    "from utils.lstm_utils import ModelUtils, LSTMDataset\n",
    "from prog_utils import * \n",
    "from models import * \n",
    "from lstm_prog_train_test import * \n",
    "\n",
    "use_cuda = torch.cuda.is_available()\n",
    "if use_cuda:\n",
    "    device = torch.device(\"cuda\")\n",
    "else:\n",
    "    device = torch.device(\"cpu\")\n",
    "global_step = 0\n",
    "best_loss = float(\"inf\")\n",
    "np.random.seed(100)\n",
    "\n",
    "ROLLOUT_LENS = [1, 10, 30]"
   ]
  },
  {
   "cell_type": "code",
   "execution_count": 11,
   "metadata": {},
   "outputs": [],
   "source": [
    "import sys\n",
    "sys.argv = ['']\n",
    "args = parse_arguments()\n",
    "args.use_delta = True"
   ]
  },
  {
   "cell_type": "code",
   "execution_count": 12,
   "metadata": {},
   "outputs": [
    {
     "name": "stdout",
     "output_type": "stream",
     "text": [
      "Loading Train data ...\n",
      "Creating relative distances...\n",
      "Train Size: 205942\n",
      "Loading Val data ...\n",
      "Creating relative distances...\n",
      "Val Size: 39472\n"
     ]
    }
   ],
   "source": [
    "data_dict = baseline_utils.get_data(args, 'none')\n",
    "# add the program data to the data_dict\n",
    "new_data_train = pd.read_pickle('Traj/train_prep.pkl')\n",
    "new_data_val = pd.read_pickle('Traj/val_prep.pkl')\n",
    "test_prep = pd.read_pickle('Traj/val_prep.pkl')\n",
    "# new_data = pd.read_pickle('train_prep_para.pkl')\n",
    "# test_prep = pd.read_pickle('train_prep_para.pkl')\n",
    "\n",
    "data_dict['train_helpers'].CANDIDATE_CENTERLINES = new_data_train.CANDIDATE_CENTERLINES\n",
    "data_dict['train_helpers']['PROG'] = new_data_train.PROG\n",
    "data_dict['val_helpers'].CANDIDATE_CENTERLINES = new_data_val.CANDIDATE_CENTERLINES\n",
    "data_dict['val_helpers']['PROG'] = new_data_val.PROG \n"
   ]
  },
  {
   "cell_type": "code",
   "execution_count": 16,
   "metadata": {},
   "outputs": [],
   "source": [
    "new_data_val['CLS_RELATIVE'] = [[] for i in range(new_data_val['CANDIDATE_CENTERLINES'].shape[0])]\n",
    "for i in range(new_data_val['CANDIDATE_CENTERLINES'].shape[0]):\n",
    "    for j in range(len(new_data_val['CANDIDATE_CENTERLINES'][i])):\n",
    "        # new_data_train['CANDIDATE_CENTERLINES'][i][j] = new_data_train['CANDIDATE_CENTERLINES'][i][j] + data_dict['train_helpers'].DELTA_REFERENCE[i]\n",
    "        new_data_val['CLS_RELATIVE'][i].append(new_data_val['CANDIDATE_CENTERLINES'][i][j] - data_dict['val_helpers'].DELTA_REFERENCE[i])\n"
   ]
  },
  {
   "cell_type": "code",
   "execution_count": 18,
   "metadata": {},
   "outputs": [
    {
     "data": {
      "text/plain": [
       "SEQUENCE                                                             37678\n",
       "FEATURES                 [[315968768.3874782, 00000000-0000-0000-0000-0...\n",
       "CANDIDATE_CENTERLINES    [[[563.8711886739475, 1218.7920030949172], [56...\n",
       "PROG                     [(8, 14, 0.05989482440059187), (1, 1, 4.136953...\n",
       "CLS_RELATIVE             [[[-22.573185679639664, -45.84975153600203], [...\n",
       "Name: 1, dtype: object"
      ]
     },
     "execution_count": 18,
     "metadata": {},
     "output_type": "execute_result"
    }
   ],
   "source": [
    "new_data_val.to_pickle('Traj/val_prep.pkl')\n",
    "# new_data_train = pd.read_pickle('Traj/train_prep.pkl')\n",
    "# new_data_val.iloc[1]"
   ]
  },
  {
   "cell_type": "code",
   "execution_count": 2,
   "metadata": {},
   "outputs": [],
   "source": [
    "data = pd.read_pickle('Traj/test_prep.pkl')"
   ]
  },
  {
   "cell_type": "code",
   "execution_count": 13,
   "metadata": {},
   "outputs": [
    {
     "data": {
      "text/plain": [
       "[(6, 15, 0.015488971024751663),\n",
       " (6, 15, 0.043969444930553436),\n",
       " (6, 15, 0.01836306042969227)]"
      ]
     },
     "execution_count": 13,
     "metadata": {},
     "output_type": "execute_result"
    }
   ],
   "source": [
    "data.iloc[13]['PROG_PRED']"
   ]
  },
  {
   "cell_type": "code",
   "execution_count": null,
   "metadata": {},
   "outputs": [],
   "source": []
  }
 ],
 "metadata": {
  "interpreter": {
   "hash": "c4923eb25cb124529e09a9a9ae9fc4b6e3115eef4d3458af6de685f8ed20e23f"
  },
  "kernelspec": {
   "display_name": "Python 3.7.6 64-bit ('base': conda)",
   "name": "python3"
  },
  "language_info": {
   "codemirror_mode": {
    "name": "ipython",
    "version": 3
   },
   "file_extension": ".py",
   "mimetype": "text/x-python",
   "name": "python",
   "nbconvert_exporter": "python",
   "pygments_lexer": "ipython3",
   "version": "3.7.6"
  },
  "orig_nbformat": 4
 },
 "nbformat": 4,
 "nbformat_minor": 2
}